{
 "cells": [
  {
   "cell_type": "markdown",
   "id": "d371f40c",
   "metadata": {},
   "source": [
    "# Jullie zijn ingenieurs die een oplossing voor de stroomonderbreking moeten vinden.\n"
   ]
  },
  {
   "cell_type": "markdown",
   "id": "2ac32696",
   "metadata": {},
   "source": [
    "Los de volgende oefeningen op:\n",
    "\n",
    "Er is een sterkte magneet van 0,1T. Jullie hebben een spoel met 1000 windingen. 1 winding heeft een oppervlakte van 1m². \n",
    "Wat is de maximale magnetische flux door 1 winding?\n"
   ]
  },
  {
   "cell_type": "markdown",
   "id": "e360aebe",
   "metadata": {},
   "source": [
    "Definieer eerst de verschillende parameters als variabelen (bv: B = 0.1). Je noteert best de eenheid met een comment."
   ]
  },
  {
   "cell_type": "code",
   "execution_count": 2,
   "id": "380b62e1",
   "metadata": {},
   "outputs": [],
   "source": [
    "B = 0.1 #T\n",
    "A = 1 #m²"
   ]
  },
  {
   "cell_type": "markdown",
   "id": "827b26bc",
   "metadata": {},
   "source": [
    "Bereken nu de magnetische flux."
   ]
  },
  {
   "cell_type": "code",
   "execution_count": null,
   "id": "59d843ca",
   "metadata": {},
   "outputs": [],
   "source": []
  }
 ],
 "metadata": {
  "kernelspec": {
   "display_name": "Python 3 (ipykernel)",
   "language": "python",
   "name": "python3"
  },
  "language_info": {
   "codemirror_mode": {
    "name": "ipython",
    "version": 3
   },
   "file_extension": ".py",
   "mimetype": "text/x-python",
   "name": "python",
   "nbconvert_exporter": "python",
   "pygments_lexer": "ipython3",
   "version": "3.9.13"
  }
 },
 "nbformat": 4,
 "nbformat_minor": 5
}
